{
 "cells": [
  {
   "cell_type": "code",
   "execution_count": 7,
   "metadata": {},
   "outputs": [
    {
     "name": "stdout",
     "output_type": "stream",
     "text": [
      "Moscow\n",
      "None\n",
      "dict_keys(['USA', 'India', 'China', 'Russia'])\n",
      "dict_values(['Washington DC', 'New Dehli', 'Beijing', 'Moscow'])\n",
      "dict_items([('USA', 'Washington DC'), ('India', 'New Dehli'), ('China', 'Beijing'), ('Russia', 'Moscow')])\n",
      "USA Washington DC\n",
      "India New Dehli\n",
      "China Beijing\n",
      "Russia Moscow\n"
     ]
    }
   ],
   "source": [
    "# dictionary = changeable, unordered, uniqe key:value pairs, fast because hashing\n",
    "\n",
    "capitals = {'USA': 'Washington DC',\n",
    "            'India' : 'New Dehli',\n",
    "            'China': 'Beijing',\n",
    "            'Russia': 'Moscow'}\n",
    "\n",
    "\n",
    "print(capitals['Russia'])\n",
    "# print(capitals['Germany']) # Key Error\n",
    "print(capitals.get('Germany')) # None .. much safer\n",
    "print(capitals.keys())\n",
    "print(capitals.values())\n",
    "print(capitals.items())\n",
    "\n",
    "for key, value in capitals.items():\n",
    "    print(key, value)"
   ]
  },
  {
   "cell_type": "code",
   "execution_count": 14,
   "metadata": {},
   "outputs": [
    {
     "name": "stdout",
     "output_type": "stream",
     "text": [
      "dict_items([])\n"
     ]
    }
   ],
   "source": [
    "capitals = {'USA': 'Washington DC',\n",
    "            'India' : 'New Dehli',\n",
    "            'China': 'Beijing',\n",
    "            'Russia': 'Moscow'}\n",
    "            \n",
    "capitals.update({'Germany': 'Berlin'})\n",
    "capitals.update({'USA': 'Las Vegas'})\n",
    "capitals.pop('China')\n",
    "capitals.clear()\n",
    "print(capitals.items())"
   ]
  }
 ],
 "metadata": {
  "kernelspec": {
   "display_name": "Python 3.8.5 64-bit ('3.8.5')",
   "language": "python",
   "name": "python3"
  },
  "language_info": {
   "codemirror_mode": {
    "name": "ipython",
    "version": 3
   },
   "file_extension": ".py",
   "mimetype": "text/x-python",
   "name": "python",
   "nbconvert_exporter": "python",
   "pygments_lexer": "ipython3",
   "version": "3.8.5"
  },
  "orig_nbformat": 4,
  "vscode": {
   "interpreter": {
    "hash": "444d1ea7a344fbc25eee6300e960d1cb16153d3729f63dcd8ee9781cbebac3de"
   }
  }
 },
 "nbformat": 4,
 "nbformat_minor": 2
}
