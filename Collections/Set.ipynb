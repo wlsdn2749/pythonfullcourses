{
 "cells": [
  {
   "cell_type": "code",
   "execution_count": 2,
   "metadata": {},
   "outputs": [],
   "source": [
    "utensils = {\"fork\", \"spoon\", \"knife\"}\n",
    "\n",
    "utensils.add(\"napkin\")\n",
    "utensils.remove(\"fork\")\n",
    "utensils.clear()\n",
    "\n",
    "for x in utensils:\n",
    "    print(x)"
   ]
  },
  {
   "cell_type": "code",
   "execution_count": 8,
   "metadata": {},
   "outputs": [
    {
     "name": "stdout",
     "output_type": "stream",
     "text": [
      "fork\n",
      "spoon\n",
      "bowl\n",
      "cup\n",
      "plate\n",
      "knife\n"
     ]
    }
   ],
   "source": [
    "dishes = {\"bowl\", \"plate\", \"cup\"}\n",
    "utensils = {\"fork\", \"spoon\", \"knife\"}\n",
    "utensils.update(dishes)\n",
    "\n",
    "dishes.update(utensils) # join other set\n",
    "\n",
    "\n",
    "\n",
    "for x in dishes:\n",
    "    print(x)"
   ]
  },
  {
   "cell_type": "code",
   "execution_count": 9,
   "metadata": {},
   "outputs": [
    {
     "name": "stdout",
     "output_type": "stream",
     "text": [
      "fork\n",
      "spoon\n",
      "bowl\n",
      "cup\n",
      "plate\n",
      "knife\n"
     ]
    }
   ],
   "source": [
    "dinner_table = utensils.union(dishes)\n",
    "\n",
    "for x in dinner_table:\n",
    "    print(x)\n",
    "\n",
    "\n"
   ]
  },
  {
   "cell_type": "code",
   "execution_count": 14,
   "metadata": {},
   "outputs": [
    {
     "name": "stdout",
     "output_type": "stream",
     "text": [
      "{'fork', 'spoon'}\n",
      "{'bowl', 'cup', 'plate'}\n",
      "{'knife'}\n"
     ]
    }
   ],
   "source": [
    "utensils = {\"fork\", \"spoon\", \"knife\"}\n",
    "dishes = {\"bowl\", \"plate\", \"cup\", \"knife\"}\n",
    "\n",
    "print(utensils.difference(dishes)) # utensil에서 두 set에 있는 공통 요소 제거한 set return\n",
    "print(dishes.difference(utensils)) # dishes에서 두 set에 있는 공통 요소 제거한 set return\n",
    "print(utensils.intersection(dishes)) # 교집합을 set으로 리턴"
   ]
  }
 ],
 "metadata": {
  "kernelspec": {
   "display_name": "Python 3.8.5 64-bit ('3.8.5')",
   "language": "python",
   "name": "python3"
  },
  "language_info": {
   "codemirror_mode": {
    "name": "ipython",
    "version": 3
   },
   "file_extension": ".py",
   "mimetype": "text/x-python",
   "name": "python",
   "nbconvert_exporter": "python",
   "pygments_lexer": "ipython3",
   "version": "3.8.5"
  },
  "orig_nbformat": 4,
  "vscode": {
   "interpreter": {
    "hash": "444d1ea7a344fbc25eee6300e960d1cb16153d3729f63dcd8ee9781cbebac3de"
   }
  }
 },
 "nbformat": 4,
 "nbformat_minor": 2
}
