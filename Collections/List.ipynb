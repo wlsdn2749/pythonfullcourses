{
 "cells": [
  {
   "cell_type": "code",
   "execution_count": 13,
   "metadata": {},
   "outputs": [
    {
     "name": "stdout",
     "output_type": "stream",
     "text": [
      "['pizza', 'hamburger', 'hotdog', 'spaghetti']\n",
      "pizza\n",
      "sushi\n",
      "sushi hamburger hotdog spaghetti \n",
      "sushi hamburger spaghetti ice cream \n",
      "cake sushi hamburger spaghetti \n",
      "cake hamburger spaghetti sushi \n",
      "[]\n"
     ]
    }
   ],
   "source": [
    "# list = used to store multiple items in single variable\n",
    "\n",
    "food = [\"pizza\", \"hamburger\", \"hotdog\", \"spaghetti\"]\n",
    "\n",
    "print(food)\n",
    "print(food[0]) # you can access the elements, first is zero\n",
    "#print(food[4]) error : out of index\n",
    "\n",
    "food[0] = \"sushi\" \n",
    "print(food[0])\n",
    "\n",
    "for x in food:\n",
    "    print(x, end=\" \")\n",
    "\n",
    "print()\n",
    "\n",
    "food.append(\"ice cream\")\n",
    "food.remove(\"hotdog\")\n",
    "for x in food:\n",
    "    print(x, end=\" \")\n",
    "print()\n",
    "food.pop() # remove last index's elements\n",
    "food.insert(0, 'cake') # index, str\n",
    "\n",
    "for x in food:\n",
    "    print(x, end=\" \")\n",
    "print()\n",
    "\n",
    "food.sort()\n",
    "for x in food:\n",
    "    print(x, end=\" \") # lexicographical order ..\n",
    "print()\n",
    "\n",
    "food.clear()\n",
    "print(food)\n",
    "\n"
   ]
  },
  {
   "cell_type": "code",
   "execution_count": 18,
   "metadata": {},
   "outputs": [
    {
     "name": "stdout",
     "output_type": "stream",
     "text": [
      "[['coffee', 'soda', 'tea'], ['pizza', 'hamburger', 'hotdog'], ['cake', 'ice cream']]\n",
      "['coffee', 'soda', 'tea']\n",
      "tea\n"
     ]
    }
   ],
   "source": [
    "# 2D list = a list of lists\n",
    "\n",
    "drinks = [\"coffee\", \"soda\", \"tea\"]\n",
    "dinner = [\"pizza\", \"hamburger\", \"hotdog\"]\n",
    "dessert = [\"cake\", \"ice cream\"]\n",
    "\n",
    "food = [drinks, dinner, dessert]\n",
    "\n",
    "print(food)\n",
    "print(food[0])\n",
    "print(food[0][2])\n",
    "\n",
    "\n"
   ]
  }
 ],
 "metadata": {
  "kernelspec": {
   "display_name": "Python 3.8.5 64-bit ('3.8.5')",
   "language": "python",
   "name": "python3"
  },
  "language_info": {
   "codemirror_mode": {
    "name": "ipython",
    "version": 3
   },
   "file_extension": ".py",
   "mimetype": "text/x-python",
   "name": "python",
   "nbconvert_exporter": "python",
   "pygments_lexer": "ipython3",
   "version": "3.8.5"
  },
  "orig_nbformat": 4,
  "vscode": {
   "interpreter": {
    "hash": "444d1ea7a344fbc25eee6300e960d1cb16153d3729f63dcd8ee9781cbebac3de"
   }
  }
 },
 "nbformat": 4,
 "nbformat_minor": 2
}
