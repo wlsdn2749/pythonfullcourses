{
 "cells": [
  {
   "cell_type": "code",
   "execution_count": 6,
   "metadata": {},
   "outputs": [
    {
     "name": "stdout",
     "output_type": "stream",
     "text": [
      "1\n",
      "2\n",
      "Bro 21 male \n",
      "Bro is here!\n"
     ]
    }
   ],
   "source": [
    "# tuple = collection used to related data is ordered and unchangeable\n",
    "\n",
    "\n",
    "student = (\"Bro\", 21, \"male\")\n",
    "\n",
    "print(student.count(\"Bro\"))\n",
    "print(student.index(\"male\"))\n",
    "\n",
    "for x in student:\n",
    "    print(x, end = \" \")\n",
    "print()\n",
    "\n",
    "if \"Bro\" in student:\n",
    "    print(\"Bro is here!\")\n"
   ]
  }
 ],
 "metadata": {
  "kernelspec": {
   "display_name": "Python 3.8.5 64-bit ('3.8.5')",
   "language": "python",
   "name": "python3"
  },
  "language_info": {
   "codemirror_mode": {
    "name": "ipython",
    "version": 3
   },
   "file_extension": ".py",
   "mimetype": "text/x-python",
   "name": "python",
   "nbconvert_exporter": "python",
   "pygments_lexer": "ipython3",
   "version": "3.8.5"
  },
  "orig_nbformat": 4,
  "vscode": {
   "interpreter": {
    "hash": "444d1ea7a344fbc25eee6300e960d1cb16153d3729f63dcd8ee9781cbebac3de"
   }
  }
 },
 "nbformat": 4,
 "nbformat_minor": 2
}
