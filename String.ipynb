{
 "cells": [
  {
   "cell_type": "code",
   "execution_count": 1,
   "metadata": {},
   "outputs": [
    {
     "name": "stdout",
     "output_type": "stream",
     "text": [
      "I love pizza\n"
     ]
    }
   ],
   "source": [
    "print(\"I love pizza\")"
   ]
  },
  {
   "cell_type": "code",
   "execution_count": 3,
   "metadata": {},
   "outputs": [
    {
     "name": "stdout",
     "output_type": "stream",
     "text": [
      "<class 'str'>\n",
      "Hello Bro\n"
     ]
    }
   ],
   "source": [
    "name = \"Bro\"\n",
    "print(type(name))\n",
    "print(\"Hello \" + name)"
   ]
  },
  {
   "cell_type": "code",
   "execution_count": 4,
   "metadata": {},
   "outputs": [
    {
     "name": "stdout",
     "output_type": "stream",
     "text": [
      "Hello BroCode\n"
     ]
    }
   ],
   "source": [
    "first_name = \"Bro\"\n",
    "last_name = \"Code\"\n",
    "full_name = first_name + \" \" + last_name # only concentrate same type\n",
    "print(\"Hello \"+ full_name)"
   ]
  },
  {
   "cell_type": "code",
   "execution_count": 9,
   "metadata": {},
   "outputs": [
    {
     "name": "stdout",
     "output_type": "stream",
     "text": [
      "22\n",
      "<class 'int'>\n",
      "Your age is : 22\n"
     ]
    }
   ],
   "source": [
    "age = 21\n",
    "age = age + 1 # age += 1\n",
    "print(age)\n",
    "print(type(age))\n",
    "\n",
    "# print(\"Your age is : \" + age)  # Typeerror because 'str' and 'int' is not same type\n",
    "print(\"Your age is : \" + str(age)) # OK 'str' and 'str' can concentrate\n",
    " "
   ]
  },
  {
   "cell_type": "code",
   "execution_count": 11,
   "metadata": {},
   "outputs": [
    {
     "name": "stdout",
     "output_type": "stream",
     "text": [
      "180.5\n",
      "<class 'float'>\n",
      "Your height is : 180.5cm\n"
     ]
    }
   ],
   "source": [
    "height = 180.5\n",
    "print(height)\n",
    "print(type(height))\n",
    "print(\"Your height is : \" + str(height) + \"cm\") # Type casting "
   ]
  },
  {
   "cell_type": "code",
   "execution_count": 13,
   "metadata": {},
   "outputs": [
    {
     "name": "stdout",
     "output_type": "stream",
     "text": [
      "<class 'bool'>\n",
      "Are you a human : False\n"
     ]
    }
   ],
   "source": [
    "human = False # Boolean Type can be only True or False\n",
    "#human = \"False\" # \"\" is str\n",
    "print(type(human))\n",
    "print(\"Are you a human :\", str(human)) "
   ]
  },
  {
   "cell_type": "code",
   "execution_count": 15,
   "metadata": {},
   "outputs": [
    {
     "name": "stdout",
     "output_type": "stream",
     "text": [
      "Bro\n",
      "21\n",
      "True\n",
      "30\n",
      "30\n",
      "30\n",
      "30\n"
     ]
    }
   ],
   "source": [
    "#multiple assignment\n",
    "\n",
    "# name = \"Bro\"\n",
    "# age = 21\n",
    "# attractive = True\n",
    "\n",
    "name, age, attractive = \"Bro\", 21, True\n",
    "\n",
    "print(name)\n",
    "print(age)\n",
    "print(attractive)\n"
   ]
  },
  {
   "cell_type": "code",
   "execution_count": 16,
   "metadata": {},
   "outputs": [
    {
     "name": "stdout",
     "output_type": "stream",
     "text": [
      "30\n",
      "30\n",
      "30\n",
      "30\n"
     ]
    }
   ],
   "source": [
    "# Spongebob = 30\n",
    "# Patrick = 30\n",
    "# Sandy = 30\n",
    "# Squidward = 30\n",
    "\n",
    "# Same\n",
    "Spongebob = Patrick = Sandy = Squidward = 30\n",
    "print(Spongebob)\n",
    "print(Patrick)\n",
    "print(Sandy)\n",
    "print(Squidward)\n"
   ]
  },
  {
   "cell_type": "code",
   "execution_count": 1,
   "metadata": {},
   "outputs": [
    {
     "name": "stdout",
     "output_type": "stream",
     "text": [
      "3\n"
     ]
    }
   ],
   "source": [
    "# len\n",
    "\n",
    "name = \"Bro\"\n",
    "print(len(name))"
   ]
  },
  {
   "cell_type": "code",
   "execution_count": 14,
   "metadata": {},
   "outputs": [
    {
     "name": "stdout",
     "output_type": "stream",
     "text": [
      "0\n",
      "Bro code\n",
      "BRO CODE\n",
      "bro code\n",
      "False\n",
      "False\n",
      "1\n",
      "bra cade\n",
      "bro codebro codebro code\n"
     ]
    }
   ],
   "source": [
    "# find, capitalize\n",
    "\n",
    "name = \"bro code\"\n",
    "print(name.find(\"b\")) # find first b's index\n",
    "print(name.capitalize()) # first upper\n",
    "print(name.upper()) # all upper\n",
    "print(name.lower()) # all lower\n",
    "print(name.isdigit()) # number or not\n",
    "print(name.isalpha()) # all str is alphabet , not exist whitespace ex) blank\n",
    "print(name.count(\"bro\")) # count same in str\n",
    "print(name.replace(\"o\", \"a\"))\n",
    "print(name * 3)\n"
   ]
  },
  {
   "cell_type": "code",
   "execution_count": 24,
   "metadata": {},
   "outputs": [
    {
     "name": "stdout",
     "output_type": "stream",
     "text": [
      "x is str1.0\n",
      "1.0\n",
      "2\n",
      "3\n"
     ]
    }
   ],
   "source": [
    "#type casting\n",
    "x = 1\n",
    "y = 2.0\n",
    "z = \"3\"\n",
    "\n",
    "x = float(x) # int to float\n",
    "y = int(y) # str(float) to int -> error 2.0 에서 .0이 int로 변환되기에 문제가 있다.\n",
    "z = int(z) # str to int \n",
    "\n",
    "\n",
    "#print(\"x is \" + x) # error\n",
    "print(\"x is str\" + str(x))\n",
    "\n",
    "print(x)\n",
    "print(y)\n",
    "print(z)"
   ]
  },
  {
   "cell_type": "code",
   "execution_count": 29,
   "metadata": {},
   "outputs": [
    {
     "name": "stdout",
     "output_type": "stream",
     "text": [
      "Hello dude\n",
      "You are33 years old\n",
      "You are203.4cm tall\n"
     ]
    }
   ],
   "source": [
    "name = input(\"What is your name? : \")\n",
    "age = int(input(\"How old are you?: \"))\n",
    "height = float(input(\"How tall are you?: \"))\n",
    "\n",
    "age = age + 1\n",
    "print(\"Hello \"+ name)\n",
    "print(\"You are \" + str(age) + \" years old\")\n",
    "print(\"You are \" + str(height) + \"cm tall\")"
   ]
  },
  {
   "cell_type": "code",
   "execution_count": 41,
   "metadata": {},
   "outputs": [
    {
     "name": "stdout",
     "output_type": "stream",
     "text": [
      "3.1\n",
      "4\n",
      "3\n",
      "3.14\n",
      "9.8596\n",
      "10.0\n",
      "3\n",
      "1\n"
     ]
    }
   ],
   "source": [
    "import math\n",
    "pi =  3.14\n",
    "\n",
    "x=1\n",
    "y=2\n",
    "z=3\n",
    "print(round(pi,1)) # 반올림 n자리로 반올림\n",
    "print(math.ceil(pi)) # 올림\n",
    "print(math.floor(pi)) # 내림\n",
    "print(abs(pi)) # 절댓값\n",
    "print(pow(pi, 2)) # 값 n제곱\n",
    "print(math.sqrt(100)) # 제곱근\n",
    "\n",
    "print(max(x,y,z))\n",
    "print(min(x,y,z))"
   ]
  },
  {
   "cell_type": "code",
   "execution_count": 81,
   "metadata": {},
   "outputs": [
    {
     "name": "stdout",
     "output_type": "stream",
     "text": [
      "Bro\n",
      "Code\n",
      "BoCd\n",
      "\n"
     ]
    }
   ],
   "source": [
    "# slicing create a substring by extracting elements from another string indexing or clice\n",
    "# [start:stop:step]\n",
    "\n",
    "name = \"Bro Code\"\n",
    "first_name = name[:3] # equals to name[0:3] # 0~1 indexing\n",
    "last_name = name[4:] # name [4:8]\n",
    "funcky_name = name[::2] # same [0:8:3]\n",
    "reversed_name = name[::-1] # same [0:0:-1]  역순으로\n",
    "# If [A:B:C] -> A = None? = index 0\n",
    "# B = None? \n",
    "# IF C > 0 ? to last index, IF C < 0 to first index  IF C == none? on each one character\n",
    "\n",
    "print(first_name)\n",
    "print(last_name)\n",
    "print(funcky_name)\n",
    "print(reversed_name)\n",
    "\n",
    "\n"
   ]
  },
  {
   "cell_type": "code",
   "execution_count": null,
   "metadata": {},
   "outputs": [],
   "source": [
    "website1 = \"https://google.com\"\n",
    "website2 = \"https://wikipedia.com\"\n",
    "slice = slice(7,-4) # 7번 인덱스부터 -4번 인덱스까지 -4는 제외\n",
    "\n",
    "print(website1[slice])\n",
    "print(website1[slice])"
   ]
  },
  {
   "cell_type": "code",
   "execution_count": 88,
   "metadata": {},
   "outputs": [
    {
     "name": "stdout",
     "output_type": "stream",
     "text": [
      "You are an adult!\n"
     ]
    }
   ],
   "source": [
    "age = int(input(\"How are are you? : \"))\n",
    "\n",
    "if age >= 18:\n",
    "    print(\"You are an adult!\")\n",
    "elif age == 100:\n",
    "    print(\"You are a century old!\") # is skipped\n",
    "elif age < 0:\n",
    "    print(\"You haven't been born yet!\")\n",
    "else:\n",
    "    print(\"Your are a child\")\n"
   ]
  },
  {
   "cell_type": "code",
   "execution_count": 92,
   "metadata": {},
   "outputs": [
    {
     "name": "stdout",
     "output_type": "stream",
     "text": [
      "the temperature is good today!\n",
      "go outside!\n"
     ]
    }
   ],
   "source": [
    "#logical operator (and,or,not) = used to check if \n",
    "\n",
    "temp = int(input(\"What is  the temperature outside? : \"))\n",
    "\n",
    "if not (temp >= 0 and temp <= 30):\n",
    "    print(\"the temperature is bad today\")\n",
    "    print(\"stay inside!\")\n",
    "elif not (temp < 0 or temp > 30):\n",
    "    print(\"the temperature is good today!\")\n",
    "    print(\"go outside!\")"
   ]
  }
 ],
 "metadata": {
  "kernelspec": {
   "display_name": "Python 3.9.6 64-bit",
   "language": "python",
   "name": "python3"
  },
  "language_info": {
   "codemirror_mode": {
    "name": "ipython",
    "version": 3
   },
   "file_extension": ".py",
   "mimetype": "text/x-python",
   "name": "python",
   "nbconvert_exporter": "python",
   "pygments_lexer": "ipython3",
   "version": "3.9.6"
  },
  "orig_nbformat": 4,
  "vscode": {
   "interpreter": {
    "hash": "31f2aee4e71d21fbe5cf8b01ff0e069b9275f58929596ceb00d14d90e3e16cd6"
   }
  }
 },
 "nbformat": 4,
 "nbformat_minor": 2
}
