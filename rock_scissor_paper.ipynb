{
 "cells": [
  {
   "cell_type": "code",
   "execution_count": 1,
   "metadata": {},
   "outputs": [],
   "source": [
    "import random"
   ]
  },
  {
   "cell_type": "code",
   "execution_count": 2,
   "metadata": {},
   "outputs": [
    {
     "name": "stdout",
     "output_type": "stream",
     "text": [
      "paper\n"
     ]
    }
   ],
   "source": []
  },
  {
   "cell_type": "code",
   "execution_count": 10,
   "metadata": {},
   "outputs": [
    {
     "name": "stdout",
     "output_type": "stream",
     "text": [
      "paper\n",
      "computer:  paper\n",
      "player:  rock\n",
      "You lose!\n",
      "rock\n",
      "computer:  rock\n",
      "player:  rock\n",
      "Tie!\n",
      "Bye!\n"
     ]
    }
   ],
   "source": [
    "while True:\n",
    "    choices = [\"rock\", \"paper\", \"scissors\"]\n",
    "\n",
    "    computer = random.choice(choices)\n",
    "\n",
    "    print(computer)\n",
    "\n",
    "    player = None\n",
    "\n",
    "    while player not in choices:\n",
    "        player = input(\"rock, paper, or scissors?: \").lower()\n",
    "\n",
    "\n",
    "    if player == computer:\n",
    "        print(\"computer: \", computer)\n",
    "        print(\"player: \", player)\n",
    "        print(\"Tie!\")\n",
    "    elif player == \"rock\":\n",
    "        if computer == \"paper\":\n",
    "            print(\"computer: \", computer)\n",
    "            print(\"player: \", player)\n",
    "            print(\"You lose!\")\n",
    "        if computer == \"scissors\":\n",
    "            print(\"computer: \", computer)\n",
    "            print(\"player: \", player)\n",
    "            print(\"You win!\")\n",
    "\n",
    "    elif player == \"scissors\":\n",
    "        if computer == \"rock\":\n",
    "            print(\"computer: \", computer)\n",
    "            print(\"player: \", player)\n",
    "            print(\"You lose!\")\n",
    "        if computer == \"paper\":\n",
    "            print(\"computer: \", computer)\n",
    "            print(\"player: \", player)\n",
    "            print(\"You win!\")\n",
    "\n",
    "    elif player == \"paper\":\n",
    "        if computer == \"scissors\":\n",
    "            print(\"computer: \", computer)\n",
    "            print(\"player: \", player)\n",
    "            print(\"You lose!\")\n",
    "        if computer == \"rock\":\n",
    "            print(\"computer: \", computer)\n",
    "            print(\"player: \", player)\n",
    "            print(\"You win!\")\n",
    "\n",
    "    play_again = input(\"Play again? (yes/no): \").lower()\n",
    "\n",
    "    if play_again != \"yes\":\n",
    "        break\n",
    "\n",
    "print(\"Bye!\")"
   ]
  }
 ],
 "metadata": {
  "kernelspec": {
   "display_name": "Python 3.8.5 64-bit ('3.8.5')",
   "language": "python",
   "name": "python3"
  },
  "language_info": {
   "codemirror_mode": {
    "name": "ipython",
    "version": 3
   },
   "file_extension": ".py",
   "mimetype": "text/x-python",
   "name": "python",
   "nbconvert_exporter": "python",
   "pygments_lexer": "ipython3",
   "version": "3.8.5"
  },
  "orig_nbformat": 4,
  "vscode": {
   "interpreter": {
    "hash": "444d1ea7a344fbc25eee6300e960d1cb16153d3729f63dcd8ee9781cbebac3de"
   }
  }
 },
 "nbformat": 4,
 "nbformat_minor": 2
}
