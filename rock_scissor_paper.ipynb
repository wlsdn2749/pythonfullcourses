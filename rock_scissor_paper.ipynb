{
 "cells": [
  {
   "cell_type": "code",
   "execution_count": 1,
   "metadata": {},
   "outputs": [],
   "source": [
    "import random"
   ]
  },
  {
   "cell_type": "code",
   "execution_count": 2,
   "metadata": {},
   "outputs": [
    {
     "name": "stdout",
     "output_type": "stream",
     "text": [
      "paper\n"
     ]
    }
   ],
   "source": [
    "choices = [\"rock\", \"paper\", \"scissors\"]\n",
    "\n",
    "computer = random.choice(choices)\n",
    "\n",
    "print(computer)"
   ]
  },
  {
   "cell_type": "code",
   "execution_count": 5,
   "metadata": {},
   "outputs": [
    {
     "name": "stdout",
     "output_type": "stream",
     "text": [
      "computer:  paper\n",
      "player:  rock\n"
     ]
    }
   ],
   "source": [
    "player = None\n",
    "\n",
    "while player not in choices:\n",
    "    player = input(\"rock, paper, or scissors?: \").lower()\n",
    "\n",
    "\n",
    "if player == computer:\n",
    "    print(\"computer: \", computer)\n",
    "    print(\"player: \", player)\n",
    "    print(\"Tie!\")\n",
    "elif player == \"rock\":\n",
    "    if computer == \"paper\":\n",
    "        print(\"computer: \", computer)\n",
    "        print(\"player: \", player)\n",
    "        print(\"You lose!\")\n",
    "    if computer == \"scissors\":\n",
    "        print(\"computer: \", computer)\n",
    "        print(\"player: \", player)\n",
    "        print(\"You win!\")\n",
    "\n",
    "elif player == \"scissors\":\n",
    "    if computer == \"rock\":\n",
    "        print(\"computer: \", computer)\n",
    "        print(\"player: \", player)\n",
    "        print(\"You lose!\")\n",
    "    if computer == \"paper\":\n",
    "        print(\"computer: \", computer)\n",
    "        print(\"player: \", player)\n",
    "        print(\"You win!\")\n",
    "\n",
    "elif player == \"paper\":\n",
    "    if computer == \"scissors\":\n",
    "        print(\"computer: \", computer)\n",
    "        print(\"player: \", player)\n",
    "        print(\"You lose!\")\n",
    "    if computer == \"rock\":\n",
    "        print(\"computer: \", computer)\n",
    "        print(\"player: \", player)\n",
    "        print(\"You win!\")"
   ]
  }
 ],
 "metadata": {
  "kernelspec": {
   "display_name": "Python 3.8.5 64-bit ('3.8.5')",
   "language": "python",
   "name": "python3"
  },
  "language_info": {
   "codemirror_mode": {
    "name": "ipython",
    "version": 3
   },
   "file_extension": ".py",
   "mimetype": "text/x-python",
   "name": "python",
   "nbconvert_exporter": "python",
   "pygments_lexer": "ipython3",
   "version": "3.8.5"
  },
  "orig_nbformat": 4,
  "vscode": {
   "interpreter": {
    "hash": "444d1ea7a344fbc25eee6300e960d1cb16153d3729f63dcd8ee9781cbebac3de"
   }
  }
 },
 "nbformat": 4,
 "nbformat_minor": 2
}
