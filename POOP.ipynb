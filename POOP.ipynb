{
 "cells": [
  {
   "cell_type": "code",
   "execution_count": 18,
   "metadata": {},
   "outputs": [
    {
     "name": "stdout",
     "output_type": "stream",
     "text": [
      "Chevy\n",
      "Corvette\n",
      "2021\n",
      "blue\n",
      "This car is driving\n"
     ]
    }
   ],
   "source": [
    "from car import Car\n",
    "\n",
    "car_1 = Car(\"Chevy\", \"Corvette\", 2021, \"blue\")\n",
    "\n",
    "print(car_1.make)\n",
    "print(car_1.model)\n",
    "print(car_1.year)\n",
    "print(car_1.color)\n",
    "\n",
    "car_1.drive()\n",
    "car_1.stop()"
   ]
  },
  {
   "cell_type": "code",
   "execution_count": 19,
   "metadata": {},
   "outputs": [
    {
     "name": "stdout",
     "output_type": "stream",
     "text": [
      "Proloa\n",
      "Mostang\n",
      "2022\n",
      "red\n",
      "This car is driving\n"
     ]
    }
   ],
   "source": [
    "\n",
    "car_2 = Car(\"Proloa\", \"Mostang\", 2022, \"red\")\n",
    "\n",
    "print(car_2.make)\n",
    "print(car_2.model)\n",
    "print(car_2.year)\n",
    "print(car_2.color)\n",
    "\n",
    "car_2.drive()\n",
    "car_2.stop()"
   ]
  }
 ],
 "metadata": {
  "kernelspec": {
   "display_name": "Python 3.8.5 64-bit ('3.8.5')",
   "language": "python",
   "name": "python3"
  },
  "language_info": {
   "codemirror_mode": {
    "name": "ipython",
    "version": 3
   },
   "file_extension": ".py",
   "mimetype": "text/x-python",
   "name": "python",
   "nbconvert_exporter": "python",
   "pygments_lexer": "ipython3",
   "version": "3.8.5"
  },
  "orig_nbformat": 4,
  "vscode": {
   "interpreter": {
    "hash": "444d1ea7a344fbc25eee6300e960d1cb16153d3729f63dcd8ee9781cbebac3de"
   }
  }
 },
 "nbformat": 4,
 "nbformat_minor": 2
}
