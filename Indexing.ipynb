{
 "cells": [
  {
   "cell_type": "code",
   "execution_count": 5,
   "metadata": {},
   "outputs": [
    {
     "name": "stdout",
     "output_type": "stream",
     "text": [
      "bro Code!\n",
      "BRO\n",
      "code!\n",
      "!\n"
     ]
    }
   ],
   "source": [
    "# index operator [] = gives access to a sequence's element ( str, list, tuples)\n",
    "\n",
    "name = \"bro Code!\"\n",
    "\n",
    "#  if(name[0].islower()):\n",
    "    #  name = name.capitalize()\n",
    "\n",
    "\n",
    "first_name = name[0:3].upper() # name[:3]\n",
    "last_name = name[4:].lower() # 4: -> to end\n",
    "\n",
    "last_character = name[-1]\n",
    "\n",
    "print(name)\n",
    "print(first_name)\n",
    "print(last_name)\n",
    "print(last_character)"
   ]
  }
 ],
 "metadata": {
  "kernelspec": {
   "display_name": "Python 3.8.5 64-bit ('3.8.5')",
   "language": "python",
   "name": "python3"
  },
  "language_info": {
   "codemirror_mode": {
    "name": "ipython",
    "version": 3
   },
   "file_extension": ".py",
   "mimetype": "text/x-python",
   "name": "python",
   "nbconvert_exporter": "python",
   "pygments_lexer": "ipython3",
   "version": "3.8.5"
  },
  "orig_nbformat": 4,
  "vscode": {
   "interpreter": {
    "hash": "444d1ea7a344fbc25eee6300e960d1cb16153d3729f63dcd8ee9781cbebac3de"
   }
  }
 },
 "nbformat": 4,
 "nbformat_minor": 2
}
