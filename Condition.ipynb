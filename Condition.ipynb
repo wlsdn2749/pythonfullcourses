{
 "cells": [
  {
   "cell_type": "code",
   "execution_count": null,
   "metadata": {},
   "outputs": [],
   "source": [
    "while 1==1: # Always True\n",
    "    print(\"Hello! I'm stuck in a loop!\")"
   ]
  },
  {
   "cell_type": "code",
   "execution_count": 2,
   "metadata": {},
   "outputs": [
    {
     "name": "stdout",
     "output_type": "stream",
     "text": [
      "Hello PRO\n"
     ]
    }
   ],
   "source": [
    "name = \"\"\n",
    "\n",
    "while len(name) == 0:\n",
    "    name = input(\"Enter your name: \") # if name is None, again input\n",
    "\n",
    "print(\"Hello \"+ name) "
   ]
  },
  {
   "cell_type": "code",
   "execution_count": null,
   "metadata": {},
   "outputs": [],
   "source": [
    "import time\n",
    "#for loop , is different from while is whether terminate is or not\n",
    "\n",
    "for i in range(10): # ten time repeat\n",
    "    print(i)\n",
    "\n"
   ]
  },
  {
   "cell_type": "code",
   "execution_count": null,
   "metadata": {},
   "outputs": [],
   "source": [
    "for i in range(50, 100+1): # 50 is inclusive 100 is exclusive\n",
    "    print(i)"
   ]
  },
  {
   "cell_type": "code",
   "execution_count": null,
   "metadata": {},
   "outputs": [],
   "source": [
    "for i in range(50, 100+1, 2):\n",
    "    print(i) "
   ]
  },
  {
   "cell_type": "code",
   "execution_count": null,
   "metadata": {},
   "outputs": [],
   "source": [
    "for i in \"Bro code\": # str is iterable \n",
    "    print(i)"
   ]
  },
  {
   "cell_type": "code",
   "execution_count": 8,
   "metadata": {},
   "outputs": [
    {
     "name": "stdout",
     "output_type": "stream",
     "text": [
      "10\n",
      "9\n",
      "8\n",
      "7\n",
      "6\n",
      "5\n",
      "4\n",
      "3\n",
      "2\n",
      "1\n",
      "Happy New Year!\n"
     ]
    }
   ],
   "source": [
    "for seconds in range(10, 0, -1):\n",
    "    print(seconds)\n",
    "    time.sleep(1)\n",
    "print(\"Happy New Year!\")"
   ]
  },
  {
   "cell_type": "code",
   "execution_count": 10,
   "metadata": {},
   "outputs": [
    {
     "name": "stdout",
     "output_type": "stream",
     "text": [
      "$$$$$$\n",
      "$$$$$$\n",
      "$$$$$$\n",
      "$$$$$$\n",
      "$$$$$$\n"
     ]
    }
   ],
   "source": [
    "# nested loops: The inner loop \n",
    "\n",
    "rows = int(input(\"How many rows?: \")) # outer\n",
    "columns = int(input(\"How many columns?: \")) # inner\n",
    "symbol = input(\"Enter a symbol to use: \")\n",
    "\n",
    "for i in range(rows):\n",
    "    for j in range(columns):\n",
    "        print(symbol, end=\"\")\n",
    "    print()"
   ]
  },
  {
   "cell_type": "code",
   "execution_count": 11,
   "metadata": {},
   "outputs": [],
   "source": [
    "# Loop Control Statements\n",
    "\n",
    "# break = to terminate\n",
    "# continue = skip to next iter\n",
    "# pass = does nothing, acts as a placeholder\n",
    "\n",
    "while True:\n",
    "    name = input(\"Enter your name: \")\n",
    "    if name != \"\":\n",
    "        break"
   ]
  },
  {
   "cell_type": "code",
   "execution_count": 13,
   "metadata": {},
   "outputs": [
    {
     "name": "stdout",
     "output_type": "stream",
     "text": [
      "1234567890"
     ]
    }
   ],
   "source": [
    "phone_number = \"123-456-7890\"\n",
    "\n",
    "for i in phone_number:\n",
    "    if i == \"-\":\n",
    "        continue\n",
    "    print(i, end=\"\")"
   ]
  },
  {
   "cell_type": "code",
   "execution_count": null,
   "metadata": {},
   "outputs": [],
   "source": [
    "for i in range(1, 21):\n",
    "\n",
    "    if i == 13:\n",
    "        pass # do anything\n",
    "    else:\n",
    "        print(i)"
   ]
  }
 ],
 "metadata": {
  "kernelspec": {
   "display_name": "Python 3.8.5 64-bit ('3.8.5')",
   "language": "python",
   "name": "python3"
  },
  "language_info": {
   "codemirror_mode": {
    "name": "ipython",
    "version": 3
   },
   "file_extension": ".py",
   "mimetype": "text/x-python",
   "name": "python",
   "nbconvert_exporter": "python",
   "pygments_lexer": "ipython3",
   "version": "3.8.5"
  },
  "orig_nbformat": 4,
  "vscode": {
   "interpreter": {
    "hash": "444d1ea7a344fbc25eee6300e960d1cb16153d3729f63dcd8ee9781cbebac3de"
   }
  }
 },
 "nbformat": 4,
 "nbformat_minor": 2
}
