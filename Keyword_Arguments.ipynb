{
 "cells": [
  {
   "cell_type": "code",
   "execution_count": 2,
   "metadata": {},
   "outputs": [
    {
     "name": "stdout",
     "output_type": "stream",
     "text": [
      "Hello  Code   Due Bro\n",
      "Hello  Bro   Dude Code\n"
     ]
    }
   ],
   "source": [
    "def hello(first, middle, last):\n",
    "    print(\"Hello \", first, \" \", middle, last)\n",
    "\n",
    "hello(\"Code\", \"Due\", \"Bro\")\n",
    "\n",
    "\n",
    "hello(last=\"Code\", middle=\"Dude\", first=\"Bro\")"
   ]
  }
 ],
 "metadata": {
  "kernelspec": {
   "display_name": "Python 3.8.5 64-bit ('3.8.5')",
   "language": "python",
   "name": "python3"
  },
  "language_info": {
   "codemirror_mode": {
    "name": "ipython",
    "version": 3
   },
   "file_extension": ".py",
   "mimetype": "text/x-python",
   "name": "python",
   "nbconvert_exporter": "python",
   "pygments_lexer": "ipython3",
   "version": "3.8.5"
  },
  "orig_nbformat": 4,
  "vscode": {
   "interpreter": {
    "hash": "444d1ea7a344fbc25eee6300e960d1cb16153d3729f63dcd8ee9781cbebac3de"
   }
  }
 },
 "nbformat": 4,
 "nbformat_minor": 2
}
