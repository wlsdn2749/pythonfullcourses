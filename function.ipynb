{
 "cells": [
  {
   "cell_type": "code",
   "execution_count": 5,
   "metadata": {},
   "outputs": [
    {
     "name": "stdout",
     "output_type": "stream",
     "text": [
      "hello!Bro\n",
      "Have a nice day!\n",
      "hello!Bro\n",
      "Have a nice day!\n",
      "hello!Bro\n",
      "Have a nice day!\n"
     ]
    }
   ],
   "source": [
    "def hello(name):\n",
    "    print(\"hello!\" +name)\n",
    "    print(\"Have a nice day!\")\n",
    "\n",
    "name = \"Bro\"\n",
    "hello(\"Bro\") # argument sending as a parameter\n",
    "\n",
    "hello(name)\n",
    "\n",
    "my_name = \"Bro\"\n",
    "hello(my_name)\n",
    "\n",
    "# hello(\"Dude\")"
   ]
  },
  {
   "cell_type": "code",
   "execution_count": 9,
   "metadata": {},
   "outputs": [
    {
     "name": "stdout",
     "output_type": "stream",
     "text": [
      "hello Bro Code your old is 21\n"
     ]
    }
   ],
   "source": [
    "def hello2(first_name, last_name, age):\n",
    "    print(\"hello \" + first_name + \" \"+last_name + \" your old is \" + str(age))\n",
    "\n",
    "hello2(\"Bro\", \"Code\", 21)"
   ]
  }
 ],
 "metadata": {
  "kernelspec": {
   "display_name": "Python 3.8.5 64-bit ('3.8.5')",
   "language": "python",
   "name": "python3"
  },
  "language_info": {
   "codemirror_mode": {
    "name": "ipython",
    "version": 3
   },
   "file_extension": ".py",
   "mimetype": "text/x-python",
   "name": "python",
   "nbconvert_exporter": "python",
   "pygments_lexer": "ipython3",
   "version": "3.8.5"
  },
  "orig_nbformat": 4,
  "vscode": {
   "interpreter": {
    "hash": "444d1ea7a344fbc25eee6300e960d1cb16153d3729f63dcd8ee9781cbebac3de"
   }
  }
 },
 "nbformat": 4,
 "nbformat_minor": 2
}
