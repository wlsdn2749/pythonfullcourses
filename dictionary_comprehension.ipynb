{
 "cells": [
  {
   "cell_type": "code",
   "execution_count": 1,
   "metadata": {},
   "outputs": [
    {
     "data": {
      "text/plain": [
       "{'New York': 0.0,\n",
       " 'Boston': 23.88888888888889,\n",
       " 'Los Angeles': 37.77777777777778,\n",
       " 'Chicago': 10.0}"
      ]
     },
     "execution_count": 1,
     "metadata": {},
     "output_type": "execute_result"
    }
   ],
   "source": [
    "# dictionary comprehension = create dictionaries using an expression\n",
    "#                          = can replace for loops and certain lambda functions\n",
    "\n",
    "\n",
    "\n",
    "# dictionary = {key: expression for (key, value) in iterable}\n",
    "\n",
    "cities_in_F = {'New York': 32, 'Boston': 75, 'Los Angeles': 100, 'Chicago': 50}\n",
    "\n",
    "cities_in_C = {key: (value-32)*(5/9) for (key, value) in cities_in_F.items()}\n",
    "\n",
    "cities_in_C"
   ]
  },
  {
   "cell_type": "code",
   "execution_count": 2,
   "metadata": {},
   "outputs": [
    {
     "data": {
      "text/plain": [
       "{'Boston': 'Sunny'}"
      ]
     },
     "execution_count": 2,
     "metadata": {},
     "output_type": "execute_result"
    }
   ],
   "source": [
    "weather = {'New York': \"Snowing\", 'Boston': \"Sunny\", 'Los Angeles': \"cloudy\", 'Chicago': \"cloudy\"}\n",
    "\n",
    "sunny_weather = {key: value for (key, value) in weather.items() if value == \"Sunny\"}\n",
    "\n",
    "sunny_weather"
   ]
  },
  {
   "cell_type": "code",
   "execution_count": 5,
   "metadata": {},
   "outputs": [
    {
     "data": {
      "text/plain": [
       "{'New York': 'Cold',\n",
       " 'Boston': 'Warm',\n",
       " 'Los Angeles': 'Warm',\n",
       " 'Chicago': 'Warm'}"
      ]
     },
     "execution_count": 5,
     "metadata": {},
     "output_type": "execute_result"
    }
   ],
   "source": [
    "cities = {'New York': 32, 'Boston': 75, 'Los Angeles': 100, 'Chicago': 50}\n",
    "desc_cities = {key: (\"Warm\" if value >= 40 else \"Cold\")  for (key, value) in cities.items()}\n",
    "desc_cities"
   ]
  },
  {
   "cell_type": "code",
   "execution_count": 8,
   "metadata": {},
   "outputs": [
    {
     "data": {
      "text/plain": [
       "{'New York': 'Cold', 'Boston': 'Hot', 'Los Angeles': 'Hot', 'Chicago': 'Warm'}"
      ]
     },
     "execution_count": 8,
     "metadata": {},
     "output_type": "execute_result"
    }
   ],
   "source": [
    "def check_temp(value):\n",
    "    if value >= 70:\n",
    "        return \"Hot\"\n",
    "    elif 69 >= value >= 40:\n",
    "        return \"Warm\"\n",
    "    else:\n",
    "        return \"Cold\"\n",
    "\n",
    "desc_cities_01 = {key:check_temp(value)  for (key, value) in cities.items()}\n",
    "desc_cities_01"
   ]
  }
 ],
 "metadata": {
  "kernelspec": {
   "display_name": "Python 3.8.5 64-bit ('3.8.5')",
   "language": "python",
   "name": "python3"
  },
  "language_info": {
   "codemirror_mode": {
    "name": "ipython",
    "version": 3
   },
   "file_extension": ".py",
   "mimetype": "text/x-python",
   "name": "python",
   "nbconvert_exporter": "python",
   "pygments_lexer": "ipython3",
   "version": "3.8.5"
  },
  "orig_nbformat": 4,
  "vscode": {
   "interpreter": {
    "hash": "444d1ea7a344fbc25eee6300e960d1cb16153d3729f63dcd8ee9781cbebac3de"
   }
  }
 },
 "nbformat": 4,
 "nbformat_minor": 2
}
